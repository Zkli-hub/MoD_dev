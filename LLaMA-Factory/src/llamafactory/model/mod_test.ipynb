{
 "cells": [
  {
   "cell_type": "code",
   "execution_count": 3,
   "metadata": {},
   "outputs": [
    {
     "name": "stdout",
     "output_type": "stream",
     "text": [
      "2.3.0+cu121\n",
      "4.41.0\n"
     ]
    }
   ],
   "source": [
    "# -*- encoding:utf-8 -*-\n",
    "import torch\n",
    "import numpy as np\n",
    "import transformers\n",
    "import MoD\n",
    "print(torch.__version__)  # 1.7.1\n",
    "print(transformers.__version__) # 2.1.1\n"
   ]
  }
 ],
 "metadata": {
  "kernelspec": {
   "display_name": "zkli",
   "language": "python",
   "name": "python3"
  },
  "language_info": {
   "codemirror_mode": {
    "name": "ipython",
    "version": 3
   },
   "file_extension": ".py",
   "mimetype": "text/x-python",
   "name": "python",
   "nbconvert_exporter": "python",
   "pygments_lexer": "ipython3",
   "version": "3.1.-1"
  }
 },
 "nbformat": 4,
 "nbformat_minor": 2
}
